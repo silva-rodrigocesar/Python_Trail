{
  "nbformat": 4,
  "nbformat_minor": 0,
  "metadata": {
    "colab": {
      "provenance": [],
      "authorship_tag": "ABX9TyPuHTww9MahJg7j2roBp8EY",
      "include_colab_link": true
    },
    "kernelspec": {
      "name": "python3",
      "display_name": "Python 3"
    },
    "language_info": {
      "name": "python"
    }
  },
  "cells": [
    {
      "cell_type": "markdown",
      "metadata": {
        "id": "view-in-github",
        "colab_type": "text"
      },
      "source": [
        "<a href=\"https://colab.research.google.com/github/silva-rodrigocesar/Python_Trail/blob/main/Delete_Emails.ipynb\" target=\"_parent\"><img src=\"https://colab.research.google.com/assets/colab-badge.svg\" alt=\"Open In Colab\"/></a>"
      ]
    },
    {
      "cell_type": "code",
      "execution_count": 2,
      "metadata": {
        "colab": {
          "base_uri": "https://localhost:8080/",
          "height": 456
        },
        "id": "oD7mn9dvUwy-",
        "outputId": "f1fe6181-7b47-4205-c0e6-25d51d6e67e9"
      },
      "outputs": [
        {
          "output_type": "stream",
          "name": "stdout",
          "text": [
            "Requirement already satisfied: google-auth-oauthlib in /usr/local/lib/python3.10/dist-packages (1.2.0)\n",
            "Requirement already satisfied: google-auth>=2.15.0 in /usr/local/lib/python3.10/dist-packages (from google-auth-oauthlib) (2.27.0)\n",
            "Requirement already satisfied: requests-oauthlib>=0.7.0 in /usr/local/lib/python3.10/dist-packages (from google-auth-oauthlib) (1.3.1)\n",
            "Requirement already satisfied: cachetools<6.0,>=2.0.0 in /usr/local/lib/python3.10/dist-packages (from google-auth>=2.15.0->google-auth-oauthlib) (5.3.3)\n",
            "Requirement already satisfied: pyasn1-modules>=0.2.1 in /usr/local/lib/python3.10/dist-packages (from google-auth>=2.15.0->google-auth-oauthlib) (0.4.0)\n",
            "Requirement already satisfied: rsa<5,>=3.1.4 in /usr/local/lib/python3.10/dist-packages (from google-auth>=2.15.0->google-auth-oauthlib) (4.9)\n",
            "Requirement already satisfied: oauthlib>=3.0.0 in /usr/local/lib/python3.10/dist-packages (from requests-oauthlib>=0.7.0->google-auth-oauthlib) (3.2.2)\n",
            "Requirement already satisfied: requests>=2.0.0 in /usr/local/lib/python3.10/dist-packages (from requests-oauthlib>=0.7.0->google-auth-oauthlib) (2.31.0)\n",
            "Requirement already satisfied: pyasn1<0.7.0,>=0.4.6 in /usr/local/lib/python3.10/dist-packages (from pyasn1-modules>=0.2.1->google-auth>=2.15.0->google-auth-oauthlib) (0.6.0)\n",
            "Requirement already satisfied: charset-normalizer<4,>=2 in /usr/local/lib/python3.10/dist-packages (from requests>=2.0.0->requests-oauthlib>=0.7.0->google-auth-oauthlib) (3.3.2)\n",
            "Requirement already satisfied: idna<4,>=2.5 in /usr/local/lib/python3.10/dist-packages (from requests>=2.0.0->requests-oauthlib>=0.7.0->google-auth-oauthlib) (3.7)\n",
            "Requirement already satisfied: urllib3<3,>=1.21.1 in /usr/local/lib/python3.10/dist-packages (from requests>=2.0.0->requests-oauthlib>=0.7.0->google-auth-oauthlib) (2.0.7)\n",
            "Requirement already satisfied: certifi>=2017.4.17 in /usr/local/lib/python3.10/dist-packages (from requests>=2.0.0->requests-oauthlib>=0.7.0->google-auth-oauthlib) (2024.2.2)\n"
          ]
        },
        {
          "output_type": "error",
          "ename": "NameError",
          "evalue": "name 'SCOPES' is not defined",
          "traceback": [
            "\u001b[0;31m---------------------------------------------------------------------------\u001b[0m",
            "\u001b[0;31mNameError\u001b[0m                                 Traceback (most recent call last)",
            "\u001b[0;32m<ipython-input-2-9fa06052e01a>\u001b[0m in \u001b[0;36m<cell line: 11>\u001b[0;34m()\u001b[0m\n\u001b[1;32m      9\u001b[0m \u001b[0;34m\u001b[0m\u001b[0m\n\u001b[1;32m     10\u001b[0m \u001b[0;31m# Create a flow object.\u001b[0m\u001b[0;34m\u001b[0m\u001b[0;34m\u001b[0m\u001b[0m\n\u001b[0;32m---> 11\u001b[0;31m \u001b[0mflow\u001b[0m \u001b[0;34m=\u001b[0m \u001b[0mgoogle\u001b[0m\u001b[0;34m.\u001b[0m\u001b[0moauth2\u001b[0m\u001b[0;34m.\u001b[0m\u001b[0mcredentials\u001b[0m\u001b[0;34m.\u001b[0m\u001b[0mCredentials\u001b[0m\u001b[0;34m.\u001b[0m\u001b[0mfrom_authorized_user_file\u001b[0m\u001b[0;34m(\u001b[0m\u001b[0;34m'credentials.json'\u001b[0m\u001b[0;34m,\u001b[0m \u001b[0mSCOPES\u001b[0m\u001b[0;34m)\u001b[0m\u001b[0;34m\u001b[0m\u001b[0;34m\u001b[0m\u001b[0m\n\u001b[0m\u001b[1;32m     12\u001b[0m \u001b[0;34m\u001b[0m\u001b[0m\n\u001b[1;32m     13\u001b[0m \u001b[0;31m# Prompt the user to log in.\u001b[0m\u001b[0;34m\u001b[0m\u001b[0;34m\u001b[0m\u001b[0m\n",
            "\u001b[0;31mNameError\u001b[0m: name 'SCOPES' is not defined"
          ]
        }
      ],
      "source": [
        "import os\n",
        "import imaplib\n",
        "import email\n",
        "from email.header import decode_header\n",
        "import time\n",
        "import datetime\n",
        "!pip install google-auth-oauthlib\n",
        "import google.oauth2.credentials\n",
        "\n",
        "# Create a flow object.\n",
        "flow = google.oauth2.credentials.Credentials.from_authorized_user_file('credentials.json', SCOPES)\n",
        "\n",
        "# Prompt the user to log in.\n",
        "flow.refresh(None)\n",
        "\n",
        "# Extract the app-specific password from the credentials object.\n",
        "app_password = flow.client_secret\n",
        "\n",
        "# Configurações da conta do Gmail\n",
        "GMAIL_USERNAME = \"silva.rodrigocesar@gmail.com\"\n",
        "GMAIL_PASSWORD = \"Nathalia_242328\"\n",
        "GMAIL_IMAP_SERVER = \"imap.gmail.com\"\n",
        "GMAIL_IMAP_PORT = 993\n",
        "\n",
        "# Limite de uso da caixa de entrada (85%)\n",
        "INBOX_USAGE_LIMIT = 0.85\n",
        "\n",
        "def delete_old_emails():\n",
        "    # Conectar-se à conta do Gmail\n",
        "    mail = imaplib.IMAP4_SSL(GMAIL_IMAP_SERVER)\n",
        "    mail.login(GMAIL_USERNAME, GMAIL_PASSWORD)\n",
        "\n",
        "    # Obter informações sobre a caixa de entrada\n",
        "    mail.select(\"inbox\")\n",
        "    status, data = mail.search(None, \"ALL\")\n",
        "    total_emails = len(data[0].split())\n",
        "    used_space = total_emails / INBOX_USAGE_LIMIT\n",
        "\n",
        "    # Excluir os e-mails mais antigos se a caixa de entrada estiver acima do limite\n",
        "    if used_space > 1:\n",
        "        print(f\"A caixa de entrada está com {used_space:.2f}% da capacidade. Iniciando a exclusão dos e-mails mais antigos.\")\n",
        "        status, data = mail.search(None, \"ALL\")\n",
        "        for num in data[0].split():\n",
        "            status, msg_data = mail.fetch(num, \"(RFC822)\")\n",
        "            msg = email.message_from_bytes(msg_data[0][1])\n",
        "            date_tuple = email.utils.parsedate_tz(msg[\"Date\"])\n",
        "            if date_tuple:\n",
        "                local_date = datetime.datetime.fromtimestamp(email.utils.mktime_tz(date_tuple))\n",
        "                age_days = (datetime.datetime.now() - local_date).days\n",
        "                if age_days > 30:\n",
        "                    print(f\"Excluindo o e-mail de {msg['From']} com {age_days} dias.\")\n",
        "                    mail.store(num, \"+FLAGS\", \"\\\\Deleted\")\n",
        "        mail.expunge()\n",
        "    else:\n",
        "        print(f\"A caixa de entrada está com {used_space:.2f}% da capacidade. Nenhuma ação necessária.\")\n",
        "\n",
        "    # Desconectar-se da conta do Gmail\n",
        "    mail.close()\n",
        "    mail.logout()\n",
        "\n",
        "if __name__ == \"__main__\":\n",
        "    while True:\n",
        "        delete_old_emails()\n",
        "        time.sleep(3600)  # Aguardar 1 hora antes de verificar novamente\n",
        "\n",
        "\n",
        "# Define the scopes for the Google API.\n",
        "SCOPES = ['https://www.googleapis.com/auth/gmail.readonly']\n",
        "\n",
        "# Create a flow object.\n",
        "flow = google.oauth2.credentials.Credentials.from_authorized_user_file('credentials.json', SCOPES)"
      ]
    }
  ]
}